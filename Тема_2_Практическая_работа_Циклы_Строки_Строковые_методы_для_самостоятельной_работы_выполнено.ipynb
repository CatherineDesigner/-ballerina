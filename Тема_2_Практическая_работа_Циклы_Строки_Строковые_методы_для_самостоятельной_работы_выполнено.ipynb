{
  "cells": [
    {
      "cell_type": "markdown",
      "metadata": {
        "id": "Dz4my2mpSv8I"
      },
      "source": [
        "Почтовый ящик : ranepa-emit.demography@yandex.ru"
      ]
    },
    {
      "cell_type": "markdown",
      "metadata": {
        "id": "fhvI0AX2Sv8R"
      },
      "source": [
        "Указать тему письма  : ФамилияИО_Анализ_данных_2 практика"
      ]
    },
    {
      "cell_type": "markdown",
      "metadata": {
        "id": "-ZqhhWNp9Al0"
      },
      "source": [
        "1.\tСреди чисел от 1 до 200 выведите те, которые делятся на 7"
      ]
    },
    {
      "cell_type": "code",
      "source": [
        "for i in range(1, 199):\n",
        "    if i / 7 == 0:\n",
        "      print(i, 'делится на 7')\n",
        "    "
      ],
      "metadata": {
        "id": "twhSoWtVeriq"
      },
      "execution_count": null,
      "outputs": []
    },
    {
      "cell_type": "markdown",
      "metadata": {
        "id": "_R6XpOAQ90CR"
      },
      "source": [
        "2.\tВводится 10 чисел с клавиатуры. Найти среди них максимум и минимум. (не надо создавать 10 переменных! нужны циклы)"
      ]
    },
    {
      "cell_type": "code",
      "source": [
        "chislo = [1,2,3,4,5,6,7,8,9,10]\n",
        "x = chislo[0]\n",
        "print(x)"
      ],
      "metadata": {
        "colab": {
          "base_uri": "https://localhost:8080/"
        },
        "id": "HdOhDStEylf1",
        "outputId": "34ad3ce4-c486-448e-8f96-101c730869c2"
      },
      "execution_count": null,
      "outputs": [
        {
          "output_type": "stream",
          "name": "stdout",
          "text": [
            "1\n"
          ]
        }
      ]
    },
    {
      "cell_type": "code",
      "source": [
        "x = chislo[9]\n",
        "print(x)"
      ],
      "metadata": {
        "colab": {
          "base_uri": "https://localhost:8080/"
        },
        "id": "CpNJ3f-DzGbT",
        "outputId": "417bdb31-4090-4685-e90b-743fd5324dbd"
      },
      "execution_count": null,
      "outputs": [
        {
          "output_type": "stream",
          "name": "stdout",
          "text": [
            "10\n"
          ]
        }
      ]
    },
    {
      "cell_type": "markdown",
      "source": [
        "# 2 - ой алгоритм"
      ],
      "metadata": {
        "id": "K9rFCRN6GH_m"
      }
    },
    {
      "cell_type": "code",
      "source": [
        "x = min(1, 2, 3, 4, 5, 6, 7, 8, 9, 10)\n",
        "y = max(1, 2, 3, 4, 5, 6, 7, 8, 9, 10)\n",
        "\n",
        "print(x)\n",
        "print(y)\n"
      ],
      "metadata": {
        "colab": {
          "base_uri": "https://localhost:8080/"
        },
        "id": "RG24WyMzFpEA",
        "outputId": "4f973ee0-d150-4799-def9-96722e9bd1d0"
      },
      "execution_count": null,
      "outputs": [
        {
          "output_type": "stream",
          "name": "stdout",
          "text": [
            "1\n",
            "10\n"
          ]
        }
      ]
    },
    {
      "cell_type": "markdown",
      "metadata": {
        "id": "8EGyjqdPAJJD"
      },
      "source": [
        "3.\tНайти сумму всех цифр заданного натурального числа,  которые делятся на 3."
      ]
    },
    {
      "cell_type": "code",
      "source": [
        "sum(map(int,str(333)))"
      ],
      "metadata": {
        "colab": {
          "base_uri": "https://localhost:8080/"
        },
        "id": "gSBiKbxJzhHp",
        "outputId": "d387df25-2a8a-4c54-bdc3-ddb0ba875457"
      },
      "execution_count": null,
      "outputs": [
        {
          "output_type": "execute_result",
          "data": {
            "text/plain": [
              "9"
            ]
          },
          "metadata": {},
          "execution_count": 32
        }
      ]
    },
    {
      "cell_type": "markdown",
      "metadata": {
        "id": "cLDR63f7G0zq"
      },
      "source": [
        "4.\tИспользуя цикл while, выведите на экран таблицу умножения для любого числа  на Ваш выбор.\n",
        "\n",
        "**Пример**\n",
        "    \n",
        "Для числа 3 результат выглядит так:\n",
        "    \n",
        "3 * 1 = 3\n",
        "\n",
        "3 * 2 = 6\n",
        "\n",
        "3 * 3 = 9\n",
        "\n",
        "3 * 4 = 12\n",
        "\n",
        "3 * 5 = 15\n",
        "\n",
        "...\n",
        "\n",
        "3 * 9 = 27"
      ]
    },
    {
      "cell_type": "code",
      "source": [
        "n = int(input())\n",
        "for i in range(1, n + 1):\n",
        "    for j in range(1, n + 1):\n",
        "        print(i*j, end=\"\\t\")\n"
      ],
      "metadata": {
        "colab": {
          "base_uri": "https://localhost:8080/"
        },
        "id": "sSSyReIuN_mb",
        "outputId": "06218a02-4fb8-4fd6-df7a-23d2de0fb251"
      },
      "execution_count": null,
      "outputs": [
        {
          "output_type": "stream",
          "name": "stdout",
          "text": [
            "5\n",
            "1\t2\t3\t4\t5\t2\t4\t6\t8\t10\t3\t6\t9\t12\t15\t4\t8\t12\t16\t20\t5\t10\t15\t20\t25\t"
          ]
        }
      ]
    },
    {
      "cell_type": "markdown",
      "source": [
        "# 2-ая версия"
      ],
      "metadata": {
        "id": "ZFW2Iu7APCnk"
      }
    },
    {
      "cell_type": "code",
      "source": [
        "for i in range(1,10):\n",
        "    for j in range(1,10):\n",
        "        print(\"%4d\" % (i*j), end='')\n",
        "    print()"
      ],
      "metadata": {
        "colab": {
          "base_uri": "https://localhost:8080/"
        },
        "id": "8NB-V-cKPdXD",
        "outputId": "dbcdf0a1-856c-45d3-fe48-dc4c7c392be9"
      },
      "execution_count": null,
      "outputs": [
        {
          "output_type": "stream",
          "name": "stdout",
          "text": [
            "   1   2   3   4   5   6   7   8   9\n",
            "   2   4   6   8  10  12  14  16  18\n",
            "   3   6   9  12  15  18  21  24  27\n",
            "   4   8  12  16  20  24  28  32  36\n",
            "   5  10  15  20  25  30  35  40  45\n",
            "   6  12  18  24  30  36  42  48  54\n",
            "   7  14  21  28  35  42  49  56  63\n",
            "   8  16  24  32  40  48  56  64  72\n",
            "   9  18  27  36  45  54  63  72  81\n"
          ]
        }
      ]
    }
  ],
  "metadata": {
    "colab": {
      "name": "Тема_2_Практическая_работа_Циклы_Строки_Строковые_методы_для_самостоятельной_работы выполнено.ipynb",
      "provenance": [],
      "collapsed_sections": [],
      "toc_visible": true
    },
    "kernelspec": {
      "display_name": "Python 3",
      "language": "python",
      "name": "python3"
    },
    "language_info": {
      "codemirror_mode": {
        "name": "ipython",
        "version": 3
      },
      "file_extension": ".py",
      "mimetype": "text/x-python",
      "name": "python",
      "nbconvert_exporter": "python",
      "pygments_lexer": "ipython3",
      "version": "3.8.8"
    }
  },
  "nbformat": 4,
  "nbformat_minor": 0
}